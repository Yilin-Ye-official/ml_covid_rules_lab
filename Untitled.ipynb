{
 "cells": [
  {
   "cell_type": "code",
   "execution_count": null,
   "metadata": {},
   "outputs": [],
   "source": [
    "def count_labels(rows):\n",
    "    label_count = {}\n",
    "    labels = rows[\"outcome\"].unique()\n",
    "    for label in labels:\n",
    "        label_count[label]=rows[rows[\"outcome\"]==label].shape[0]\n",
    "    \n",
    "    return label_count"
   ]
  },
  {
   "cell_type": "markdown",
   "metadata": {},
   "source": [
    "# here we will get a dictionary \n",
    "# which {(label,3),(label,4),...}\n",
    "# such that label is the different names of attributes like: red, blue, green and the number is the occurence"
   ]
  },
  {
   "cell_type": "code",
   "execution_count": null,
   "metadata": {},
   "outputs": [],
   "source": [
    "def split(rows, column, value):\n",
    "    temp_rows = rows.copy()\n",
    "    if column==None:\n",
    "        return rows\n",
    "   \n",
    "    for i in range(len(column)):\n",
    "        if isinstance(rows[column[i]], int) or isinstance(rows[column[i]], float):\n",
    "            temp_rows = temp_rows[temp_rows[column[i]] >= value[i] ]#for numeric attribute interpret as greater than or equal to\n",
    "        else:\n",
    "            temp_rows = temp_rows[temp_rows[column[i]] == value[i]]\n",
    "    return temp_rows"
   ]
  },
  {
   "cell_type": "markdown",
   "metadata": {},
   "source": [
    "# divide rows according to attributes\n",
    "# if the attribute is a number, divide the rows by >= number and == number\n",
    "# if the attribute is not a number, divide by rows == or not =="
   ]
  },
  {
   "cell_type": "code",
   "execution_count": null,
   "metadata": {},
   "outputs": [],
   "source": [
    "def coverage(rows, column, value):\n",
    "    \"\"\"\n",
    "    rows: all the rows left\n",
    "    column: the specific column where value belongs to\n",
    "    value: one trait that we are evaluating like 'red'\n",
    "    \"\"\"\n",
    "    temp_rows = split(rows, column, value)\n",
    "    coverage = temp_rows.shape[0] #rows that has this sepcific value like 'red'\n",
    "    # and the specific attribute\n",
    "    return coverage"
   ]
  },
  {
   "cell_type": "code",
   "execution_count": null,
   "metadata": {},
   "outputs": [],
   "source": [
    "def cal_accuracy(rows, column, value, c,attribute):\n",
    "    \"\"\"\n",
    "    rows: all the rows left\n",
    "    column: the specific column where value belongs to\n",
    "    value: one trait that we are evaluating like 'red'\n",
    "    attribute: like 'T', 'F'\n",
    "    \"\"\"\n",
    "    temp_rows = split(rows, column, value)\n",
    "    \n",
    "    true_rows_len = temp_rows[temp_rows[attribute]==c].shape[0]\n",
    "    if true_rows_len == 0:\n",
    "        return 0\n",
    "    total = temp_rows.shape[0]\n",
    "    \n",
    "    accuracy = true_rows_len/total\n",
    "    \n",
    "    return accuracy"
   ]
  },
  {
   "cell_type": "code",
   "execution_count": null,
   "metadata": {},
   "outputs": [],
   "source": [
    "class Rule:\n",
    "    def __init__(self, accuracy = None, attributes = None, covered=None, value = None, label=None):\n",
    "        self.accuracy = accuracy\n",
    "        self.attributes = attributes\n",
    "        self.covered = covered # the rows that are covered by this rule\n",
    "        self.value = value #format as (0, 'female')\n",
    "        self.label = label #the labels of each sub-rules. like ['yes','no',...]"
   ]
  },
  {
   "cell_type": "code",
   "execution_count": null,
   "metadata": {},
   "outputs": [],
   "source": [
    "def generate_rule(rows, columns_list,score_func1=cal_accuracy, score_func2=coverage, accu_thresh=0, cover_thresh=0):\n",
    "    if len(rows) == 0:\n",
    "        print(\"Done!\")\n",
    "        return\n",
    "\n",
    "    all_rules = []\n",
    "    labels = count_labels(rows)\n",
    "    for label in labels:\n",
    "        new_R = Rule(attributes = [], value = [], label=label)\n",
    "        new_R.accuracy = score_func1(rows, new_R.attributes, new_R.value, label, columns_list[-1])\n",
    "        new_R.covered = score_func2(rows,new_R.attributes, new_R.value)\n",
    "        all_rules.append(new_R)\n",
    "        \n",
    "        R = Rule(label=label,attributes=[],value = [])  # the labels of each rule. like 'alive','dead',...\n",
    "        R.accuracy = score_func1(rows, R.attributes, R.value, R.label,columns_list[-1])#find_accuracy(data, rule, c, attr[-1])\n",
    "        \n",
    "        remainder_cols = columns_list[:-1].copy()\n",
    "        rows_copy = rows[rows[columns_list[-1]]== label].copy()\n",
    "        while R.accuracy< accu_thresh:\n",
    "            \n",
    "            for col in remainder_cols:\n",
    "               \n",
    "                values = rows_copy[col].unique()\n",
    "                \n",
    "                for val in values:\n",
    "                    a = R.attributes.copy()\n",
    "                    a.append(col)\n",
    "                    if len(a)>2:\n",
    "                        print\n",
    "                    b = R.value.copy()\n",
    "                    b.append(val)\n",
    "                    new_R = Rule(attributes = a, value = b, label=label)\n",
    "                    new_R.accuracy = score_func1(rows, new_R.attributes, new_R.value, label, columns_list[-1])\n",
    "                    new_R.covered = score_func2(rows,new_R.attributes, new_R.value)\n",
    "                    all_rules.append(new_R)\n",
    "            \n",
    "            \n",
    "            best_rule = all_rules[0]\n",
    "            \n",
    "            for r in all_rules:\n",
    "               \n",
    "                if r.accuracy >= best_rule.accuracy and score_func2(rows, r.attributes, r.value) >= cover_thresh:\n",
    "                    if r.accuracy == best_rule.accuracy: \n",
    "                        if score_func2(rows, r.attributes, r.value) < score_func2(rows, best_rule.attributes,best_rule.value):\n",
    "                            continue\n",
    "                    best_rule = r\n",
    "            \n",
    "            if best_rule.accuracy > R.accuracy:\n",
    "                R = best_rule\n",
    "            elif best_rule.accuracy==R.accuracy and score_func2(rows,best_rule.attributes, best_rule.value)>=score_func2(rows,R.attributes, R.value):\n",
    "                R = best_rule\n",
    "#             print(remainder_cols)\n",
    "            \n",
    "            if len(R.attributes)==0:\n",
    "                pass\n",
    "                \n",
    "            elif R.attributes[-1] in remainder_cols:\n",
    "                remainder_cols.remove(R.attributes[-1])\n",
    "                \n",
    "            if len(remainder_cols)==0:\n",
    "                break\n",
    "            \n",
    "    best_rule = all_rules[0]\n",
    "    for r in all_rules:\n",
    "        if r.accuracy >= best_rule.accuracy and score_func2(rows,best_rule.attributes, best_rule.value) >= cover_thresh:\n",
    "            if r.accuracy == best_rule.accuracy:\n",
    "                if score_func2(rows,best_rule.attributes, best_rule.value) < score_func2(rows,best_rule.attributes, best_rule.value):\n",
    "                    continue\n",
    "            best_rule = r    \n",
    "    if best_rule.accuracy != None:\n",
    "        return best_rule\n",
    "\n",
    "    else:\n",
    "        print(\"threshold is too high or no available rules left\")\n",
    "        return None"
   ]
  },
  {
   "cell_type": "code",
   "execution_count": null,
   "metadata": {},
   "outputs": [],
   "source": [
    "data_file = \"/Users/elaine/Desktop/ML2020labs/covid_categorical_good.csv\"\n",
    "import pandas as pd\n",
    "data = pd.read_csv(data_file)\n",
    "data = data.dropna(how=\"any\")\n",
    "\n",
    "columns_list = data.columns.to_numpy().tolist()\n",
    "\n",
    "def recursive_rules(rows, generate_rule):\n",
    "    while len(rows) != 0:\n",
    "        one_rule = generate_rule(rows,columns_list, score_func1=cal_accuracy, score_func2=coverage, accu_thresh=0.8, cover_thresh=5)\n",
    "        if one_rule == None:\n",
    "            break\n",
    "        else:\n",
    "            print(one_rule.accuracy,one_rule.label)\n",
    "            rows = split(data, one_rule.attributes,one_rule.value)\n",
    "            rows = data[~data.index.isin(rows.index)]\n"
   ]
  },
  {
   "cell_type": "code",
   "execution_count": null,
   "metadata": {},
   "outputs": [],
   "source": [
    "recursive_rules(data, generate_rule)"
   ]
  }
 ],
 "metadata": {
  "kernelspec": {
   "display_name": "Python 3",
   "language": "python",
   "name": "python3"
  },
  "language_info": {
   "codemirror_mode": {
    "name": "ipython",
    "version": 3
   },
   "file_extension": ".py",
   "mimetype": "text/x-python",
   "name": "python",
   "nbconvert_exporter": "python",
   "pygments_lexer": "ipython3",
   "version": "3.6.7"
  }
 },
 "nbformat": 4,
 "nbformat_minor": 4
}
