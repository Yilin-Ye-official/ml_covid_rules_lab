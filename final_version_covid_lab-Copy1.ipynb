{
 "cells": [
  {
   "cell_type": "code",
   "execution_count": null,
   "metadata": {},
   "outputs": [],
   "source": [
    "def count_labels(rows):\n",
    "    label_count = {}\n",
    "    labels = rows[\"outcome\"].unique()\n",
    "    for label in labels:\n",
    "        label_count[label]=rows[rows[\"outcome\"]==label].shape[0]\n",
    "    \n",
    "    return label_count"
   ]
  },
  {
   "cell_type": "markdown",
   "metadata": {},
   "source": [
    "# here we will get a dictionary \n",
    "# which {(label,3),(label,4),...}\n",
    "# such that label is the different names of attributes like: red, blue, green and the number is the occurence"
   ]
  },
  {
   "cell_type": "code",
   "execution_count": null,
   "metadata": {},
   "outputs": [],
   "source": [
    "def split(rows, column, value):\n",
    "    temp_rows = rows.copy()\n",
    "    if column==None:\n",
    "        return rows\n",
    "   \n",
    "    for i in range(len(column)):\n",
    "        \n",
    "        if column[i]!= \"age\":\n",
    "        \n",
    "            temp_rows = temp_rows[temp_rows[column[i]] == value[i]]\n",
    "            \n",
    "        else:\n",
    "            temp_rows = temp_rows[temp_rows[column[i]] >= value[i] ]#for numeric attribute interpret as greater than or equal to\n",
    "    return temp_rows"
   ]
  },
  {
   "cell_type": "markdown",
   "metadata": {},
   "source": [
    "# divide rows according to attributes\n",
    "# if the attribute is a number, divide the rows by >= number and == number\n",
    "# if the attribute is not a number, divide by rows == or not =="
   ]
  },
  {
   "cell_type": "code",
   "execution_count": null,
   "metadata": {},
   "outputs": [],
   "source": [
    "def coverage(rows, column, value):\n",
    "    \"\"\"\n",
    "    rows: all the rows left\n",
    "    column: the specific column where value belongs to\n",
    "    value: one trait that we are evaluating like 'red'\n",
    "    \"\"\"\n",
    "    temp_rows = split(rows, column, value)\n",
    "    coverage = temp_rows.shape[0] #rows that has this sepcific value like 'red'\n",
    "    # and the specific attribute\n",
    "    return coverage"
   ]
  },
  {
   "cell_type": "code",
   "execution_count": null,
   "metadata": {},
   "outputs": [],
   "source": [
    "def cal_accuracy(rows, column, value, c,attribute):\n",
    "    \"\"\"\n",
    "    rows: all the rows left\n",
    "    column: the specific column where value belongs to\n",
    "    value: one trait that we are evaluating like 'red'\n",
    "    attribute: like 'T', 'F'\n",
    "    \"\"\"\n",
    "    temp_rows = split(rows, column, value)\n",
    "    \n",
    "    true_rows_len = temp_rows[temp_rows[attribute]==c].shape[0]\n",
    "    if true_rows_len == 0:\n",
    "        return 0\n",
    "    total = temp_rows.shape[0]\n",
    "    \n",
    "    accuracy = true_rows_len/total\n",
    "    \n",
    "    return accuracy"
   ]
  },
  {
   "cell_type": "code",
   "execution_count": null,
   "metadata": {},
   "outputs": [],
   "source": [
    "class Rule:\n",
    "    def __init__(self, accuracy = None, attributes = None, covered=None, value = None, label=None):\n",
    "        self.accuracy = accuracy\n",
    "        self.attributes = attributes\n",
    "        self.covered = covered # the rows that are covered by this rule\n",
    "        self.value = value #format as (0, 'female')\n",
    "        self.label = label #the labels of each sub-rules. like ['yes','no',...]"
   ]
  },
  {
   "cell_type": "code",
   "execution_count": null,
   "metadata": {},
   "outputs": [],
   "source": [
    "def generate_rule(rows, columns_list,score_func1=cal_accuracy, score_func2=coverage, accu_thresh=0, cover_thresh=0):\n",
    "    print(score_func2(rows,['asthma', 'imm_supr', 'sex'], ['yes', 'yes', 'female']))\n",
    "    if len(rows) == 0:\n",
    "        print(\"Done!\")\n",
    "        return\n",
    "    labels =count_labels(rows)\n",
    "    \n",
    "    all_label_best_rule = Rule(label=labels,attributes=[],value = [])\n",
    "    all_label_best_rule.accuracy = 0\n",
    "    \n",
    "    for label in labels:\n",
    "        one_label_best_rule = Rule(label=label,attributes=[],value = [])\n",
    "        one_label_best_rule.accuracy = 0\n",
    "        \n",
    "        #Create a rule R with an empty left-hand side that predicts class C\n",
    "        R = Rule(label=label,attributes=[],value = [])  # the labels of each rule. like 'alive','dead',...\n",
    "        R.accuracy = score_func1(rows, R.attributes, R.value, R.label,columns_list[-1])#find_accuracy(data, rule, c, attr[-1])\n",
    "        R.covered = score_func2(rows,R.attributes, R.value)\n",
    "        remainder_cols = columns_list[:-1].copy()\n",
    "        rows_copy = rows[rows[columns_list[-1]]== label].copy()\n",
    "        cycle_time = 0\n",
    "        while R.accuracy< accu_thresh:\n",
    "            cycle_time+=1\n",
    "            for col in remainder_cols:\n",
    "                values = rows_copy[col].unique() \n",
    "                for val in values:\n",
    "                    R_att = R.attributes.copy()\n",
    "                    R_val = R.value.copy()\n",
    "                    R_att.append(col)\n",
    "                    R_val.append(val)\n",
    "                    \n",
    "                    new_R = Rule(attributes = R_att, value = R_val, label=label)\n",
    "                    new_R.accuracy = score_func1(rows, new_R.attributes, new_R.value, label, columns_list[-1])\n",
    "                    new_R.covered = score_func2(rows,new_R.attributes, new_R.value)\n",
    "                    \n",
    "                    if new_R.accuracy >= one_label_best_rule.accuracy and new_R.covered >= cover_thresh:\n",
    "                        if new_R.accuracy == one_label_best_rule.accuracy: \n",
    "                            if new_R.covered > one_label_best_rule.covered:\n",
    "                                one_label_best_rule= new_R\n",
    "                        else:one_label_best_rule= new_R\n",
    "                    else:pass\n",
    "            \n",
    "            flag = False     \n",
    "            if one_label_best_rule.accuracy > R.accuracy:\n",
    "                flag = True\n",
    "            elif one_label_best_rule.accuracy==R.accuracy:\n",
    "                if one_label_best_rule.covered>= R.covered:\n",
    "                    flag = True\n",
    "            if flag:\n",
    "                R=one_label_best_rule\n",
    "                if len(R.attributes)==0:\n",
    "                    pass\n",
    "                 \n",
    "                elif R.attributes[-1] in remainder_cols:\n",
    "                    remainder_cols.remove(R.attributes[-1])\n",
    "                if R.accuracy>= accu_thresh and R.covered>= cover_thresh:\n",
    "                    if R.accuracy > all_label_best_rule.accuracy:\n",
    "                        all_label_best_rule = R\n",
    "                    elif R.accuracy == all_label_best_rule.accuracy and R.covered >= all_label_best_rule.covered:\n",
    "                        all_label_best_rule = R\n",
    "            if len(remainder_cols)==0 or cycle_time>len(remainder_cols):\n",
    "                break\n",
    "            \n",
    "    \n",
    "    if all_label_best_rule.accuracy != 0:\n",
    "        return all_label_best_rule"
   ]
  },
  {
   "cell_type": "code",
   "execution_count": null,
   "metadata": {},
   "outputs": [],
   "source": [
    "data_file = \"/Users/elaine/Desktop/ML2020labs/covid_categorical_good.csv\"\n",
    "\n",
    "import pandas as pd\n",
    "data = pd.read_csv(data_file)\n",
    "data = data.dropna(how=\"any\")\n",
    "\n",
    "def recursive_rules(rows, generate_rule):\n",
    "    columns_list = rows.columns.to_numpy().tolist()\n",
    "    rows_copy = rows.copy()\n",
    "    flag = False\n",
    "    while len(rows_copy) != 0:\n",
    "        one_rule = generate_rule(rows_copy,columns_list, score_func1=cal_accuracy, score_func2=coverage, accu_thresh=0.9, cover_thresh=20)\n",
    "        if one_rule == None:\n",
    "            break\n",
    "        else:\n",
    "            flag = True\n",
    "            print(one_rule.accuracy,one_rule.label,one_rule.attributes,one_rule.covered,one_rule.value)\n",
    "            rows_best = split(rows_copy, one_rule.attributes,one_rule.value)\n",
    "            rows_copy = rows_copy[~rows_copy.index.isin(rows_best.index)]\n",
    "    if not flag:\n",
    "        print(\"threshold is too high or no available rules left\")\n",
    "        \n",
    "recursive_rules(data, generate_rule)"
   ]
  },
  {
   "cell_type": "code",
   "execution_count": null,
   "metadata": {},
   "outputs": [],
   "source": [
    "recursive_rules(data, generate_rule)"
   ]
  }
 ],
 "metadata": {
  "kernelspec": {
   "display_name": "Python 3",
   "language": "python",
   "name": "python3"
  },
  "language_info": {
   "codemirror_mode": {
    "name": "ipython",
    "version": 3
   },
   "file_extension": ".py",
   "mimetype": "text/x-python",
   "name": "python",
   "nbconvert_exporter": "python",
   "pygments_lexer": "ipython3",
   "version": "3.8.3"
  }
 },
 "nbformat": 4,
 "nbformat_minor": 4
}
